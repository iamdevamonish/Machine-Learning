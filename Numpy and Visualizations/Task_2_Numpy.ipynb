{
  "cells": [
    {
      "cell_type": "code",
      "execution_count": null,
      "id": "db94606d",
      "metadata": {
        "id": "db94606d"
      },
      "outputs": [],
      "source": [
        "import numpy as np"
      ]
    },
    {
      "cell_type": "markdown",
      "id": "d22bafe6",
      "metadata": {
        "id": "d22bafe6"
      },
      "source": [
        "Creating and modifying an array"
      ]
    },
    {
      "cell_type": "code",
      "execution_count": null,
      "id": "e4763630",
      "metadata": {
        "id": "e4763630"
      },
      "outputs": [],
      "source": [
        "a = np.arange(0,10)"
      ]
    },
    {
      "cell_type": "code",
      "execution_count": null,
      "id": "b7b6d684",
      "metadata": {
        "id": "b7b6d684",
        "outputId": "00c918f3-cb38-4c23-8a73-2191c4b7f148"
      },
      "outputs": [
        {
          "data": {
            "text/plain": [
              "array([0, 1, 2, 3, 4, 5, 6, 7, 8, 9])"
            ]
          },
          "execution_count": 4,
          "metadata": {},
          "output_type": "execute_result"
        }
      ],
      "source": [
        "print(a)"
      ]
    },
    {
      "cell_type": "code",
      "execution_count": null,
      "id": "c59e6ced",
      "metadata": {
        "id": "c59e6ced"
      },
      "outputs": [],
      "source": [
        "a[1] = 76"
      ]
    },
    {
      "cell_type": "code",
      "execution_count": null,
      "id": "2b32f9e8",
      "metadata": {
        "id": "2b32f9e8",
        "outputId": "5017d223-5988-4409-9d33-03db973d658e"
      },
      "outputs": [
        {
          "name": "stdout",
          "output_type": "stream",
          "text": [
            "[ 0 76  2  3  4  5  6  7  8  9]\n"
          ]
        }
      ],
      "source": [
        "print(a)"
      ]
    },
    {
      "cell_type": "markdown",
      "id": "12a4707a",
      "metadata": {
        "id": "12a4707a"
      },
      "source": [
        "finding min max and mean"
      ]
    },
    {
      "cell_type": "code",
      "execution_count": null,
      "id": "1872f0d6",
      "metadata": {
        "id": "1872f0d6",
        "outputId": "c96c359d-43b3-4d0a-873f-e9f58e56686b"
      },
      "outputs": [
        {
          "name": "stdout",
          "output_type": "stream",
          "text": [
            "0\n",
            "76\n",
            "12.0\n"
          ]
        }
      ],
      "source": [
        "print(min(a))\n",
        "print(max(a))\n",
        "print(np.mean(a))"
      ]
    },
    {
      "cell_type": "markdown",
      "id": "ee549229",
      "metadata": {
        "id": "ee549229"
      },
      "source": [
        "reshaping and flattening an array"
      ]
    },
    {
      "cell_type": "code",
      "execution_count": null,
      "id": "264e37b0",
      "metadata": {
        "id": "264e37b0",
        "outputId": "f215a162-6c24-4eec-ad6a-1c5f37ec2785"
      },
      "outputs": [
        {
          "name": "stdout",
          "output_type": "stream",
          "text": [
            "[[ 0 76  2  3  4]\n",
            " [ 5  6  7  8  9]]\n"
          ]
        }
      ],
      "source": [
        "print(a.reshape(2,5))"
      ]
    },
    {
      "cell_type": "code",
      "execution_count": null,
      "id": "ffe2028d",
      "metadata": {
        "id": "ffe2028d",
        "outputId": "904bad1b-3640-4150-b64e-cda7ee2eb3c1"
      },
      "outputs": [
        {
          "name": "stdout",
          "output_type": "stream",
          "text": [
            "[ 0 76  2  3  4  5  6  7  8  9]\n"
          ]
        }
      ],
      "source": [
        "print(a.flatten())"
      ]
    },
    {
      "cell_type": "markdown",
      "id": "bb8a8097",
      "metadata": {
        "id": "bb8a8097"
      },
      "source": [
        "create two 2x 2 arrays and stack them verticallly and horizontally"
      ]
    },
    {
      "cell_type": "code",
      "execution_count": null,
      "id": "53e634c6",
      "metadata": {
        "id": "53e634c6"
      },
      "outputs": [],
      "source": [
        "a = np.arange(1,5).reshape(2,2)"
      ]
    },
    {
      "cell_type": "code",
      "execution_count": null,
      "id": "febbd584",
      "metadata": {
        "id": "febbd584",
        "outputId": "a8311f72-5da6-44a1-827c-4cb67bd1bc84"
      },
      "outputs": [
        {
          "name": "stdout",
          "output_type": "stream",
          "text": [
            "[[1 2]\n",
            " [3 4]]\n"
          ]
        }
      ],
      "source": [
        "print(a)"
      ]
    },
    {
      "cell_type": "code",
      "execution_count": null,
      "id": "d75a9bb1",
      "metadata": {
        "id": "d75a9bb1"
      },
      "outputs": [],
      "source": [
        "b = np.arange(5,9).reshape(2,2)"
      ]
    },
    {
      "cell_type": "code",
      "execution_count": null,
      "id": "db26f67b",
      "metadata": {
        "id": "db26f67b",
        "outputId": "ab211c43-6b68-4fbb-d525-b9fc8a1fdacd"
      },
      "outputs": [
        {
          "name": "stdout",
          "output_type": "stream",
          "text": [
            "[[5 6]\n",
            " [7 8]]\n"
          ]
        }
      ],
      "source": [
        "print(b)"
      ]
    },
    {
      "cell_type": "code",
      "execution_count": null,
      "id": "ac5844f6",
      "metadata": {
        "id": "ac5844f6"
      },
      "outputs": [],
      "source": [
        "c = np.vstack((a,b))"
      ]
    },
    {
      "cell_type": "code",
      "execution_count": null,
      "id": "be9a25d6",
      "metadata": {
        "id": "be9a25d6",
        "outputId": "c693b212-6c40-4c0b-e968-e9edaeedf6fe"
      },
      "outputs": [
        {
          "name": "stdout",
          "output_type": "stream",
          "text": [
            "[[1 2]\n",
            " [3 4]\n",
            " [5 6]\n",
            " [7 8]]\n"
          ]
        }
      ],
      "source": [
        "print(c)"
      ]
    },
    {
      "cell_type": "code",
      "execution_count": null,
      "id": "bd906c13",
      "metadata": {
        "id": "bd906c13"
      },
      "outputs": [],
      "source": [
        "d = np.hstack((a,b))"
      ]
    },
    {
      "cell_type": "code",
      "execution_count": null,
      "id": "de977faa",
      "metadata": {
        "id": "de977faa",
        "outputId": "8f4d928a-3349-4cf3-e080-01644b76ac04"
      },
      "outputs": [
        {
          "name": "stdout",
          "output_type": "stream",
          "text": [
            "[[1 2 5 6]\n",
            " [3 4 7 8]]\n"
          ]
        }
      ],
      "source": [
        "print(d)"
      ]
    },
    {
      "cell_type": "markdown",
      "id": "505a6aaa",
      "metadata": {
        "id": "505a6aaa"
      },
      "source": [
        "convert a 1d array of size 9 into a 3x3 matrix"
      ]
    },
    {
      "cell_type": "code",
      "execution_count": null,
      "id": "90f8ad22",
      "metadata": {
        "id": "90f8ad22"
      },
      "outputs": [],
      "source": [
        "a = np.arange(9).reshape(3,3)"
      ]
    },
    {
      "cell_type": "code",
      "execution_count": null,
      "id": "7dee3445",
      "metadata": {
        "id": "7dee3445",
        "outputId": "45c8ee5b-284a-41b6-dfd5-0a83a33c2a71"
      },
      "outputs": [
        {
          "name": "stdout",
          "output_type": "stream",
          "text": [
            "[[0 1 2]\n",
            " [3 4 5]\n",
            " [6 7 8]]\n"
          ]
        }
      ],
      "source": [
        "print(a)"
      ]
    },
    {
      "cell_type": "markdown",
      "id": "efb88787",
      "metadata": {
        "id": "efb88787"
      },
      "source": [
        "create an array from 1 to 10 and reverse it"
      ]
    },
    {
      "cell_type": "code",
      "execution_count": null,
      "id": "b16a9a00",
      "metadata": {
        "id": "b16a9a00"
      },
      "outputs": [],
      "source": [
        "a = np.arange(1,11)"
      ]
    },
    {
      "cell_type": "code",
      "execution_count": null,
      "id": "a70970ea",
      "metadata": {
        "id": "a70970ea",
        "outputId": "992454fe-2dcc-46c5-b07b-438cf71ebf62"
      },
      "outputs": [
        {
          "name": "stdout",
          "output_type": "stream",
          "text": [
            "[ 1  2  3  4  5  6  7  8  9 10]\n"
          ]
        }
      ],
      "source": [
        "print(a)"
      ]
    },
    {
      "cell_type": "code",
      "execution_count": null,
      "id": "c899324b",
      "metadata": {
        "id": "c899324b"
      },
      "outputs": [],
      "source": [
        "b = a[::-1]"
      ]
    },
    {
      "cell_type": "code",
      "execution_count": null,
      "id": "9927b625",
      "metadata": {
        "id": "9927b625",
        "outputId": "28004e89-b413-40be-965d-178225b3d6a1"
      },
      "outputs": [
        {
          "name": "stdout",
          "output_type": "stream",
          "text": [
            "[10  9  8  7  6  5  4  3  2  1]\n"
          ]
        }
      ],
      "source": [
        "print(b)"
      ]
    },
    {
      "cell_type": "code",
      "execution_count": null,
      "id": "ac20addd",
      "metadata": {
        "id": "ac20addd"
      },
      "outputs": [],
      "source": []
    }
  ],
  "metadata": {
    "kernelspec": {
      "display_name": "Python 3 (ipykernel)",
      "language": "python",
      "name": "python3"
    },
    "language_info": {
      "codemirror_mode": {
        "name": "ipython",
        "version": 3
      },
      "file_extension": ".py",
      "mimetype": "text/x-python",
      "name": "python",
      "nbconvert_exporter": "python",
      "pygments_lexer": "ipython3",
      "version": "3.11.5"
    },
    "colab": {
      "provenance": []
    }
  },
  "nbformat": 4,
  "nbformat_minor": 5
}